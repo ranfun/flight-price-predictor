{
 "cells": [
  {
   "cell_type": "code",
   "execution_count": 55,
   "id": "52185c38",
   "metadata": {},
   "outputs": [],
   "source": [
    "from sklearn.preprocessing import LabelEncoder\n",
    "import pandas as pd\n",
    "import numpy as np\n",
    "import os\n",
    "from sklearn.ensemble import RandomForestRegressor\n",
    "from sklearn.metrics import mean_squared_error, mean_absolute_error, r2_score\n",
    "from sklearn.model_selection import GridSearchCV\n",
    "from sklearn.model_selection import train_test_split"
   ]
  },
  {
   "cell_type": "code",
   "execution_count": 34,
   "id": "cc346b5d",
   "metadata": {},
   "outputs": [],
   "source": [
    "# load your dataset into a pandas DataFrame\n",
    "df = pd.read_excel('C:/Users/Soumya Ranjan/Desktop/Workspace/UCI/Winter/211/Flight_Price_Prediction/t.xlsx')\n",
    "# define the columns containing string values\n",
    "string_cols = ['Airline', 'Date_of_Journey', 'Source','Destination','Route','Dep_Time','Arrival_Time','Duration','Total_Stops','Additional_Info']\n",
    "\n",
    "# create a LabelEncoder object for each string column\n",
    "label_encoders = {}\n",
    "for col in string_cols:\n",
    "    le = LabelEncoder()\n",
    "    le.fit(df[col])\n",
    "    df[col] = le.transform(df[col])\n",
    "    label_encoders[col] = le\n",
    "\n",
    "# save the label encoders for future use\n",
    "import pickle\n",
    "with open('label_encoders.pkl', 'wb') as f:\n",
    "    pickle.dump(label_encoders, f)"
   ]
  },
  {
   "cell_type": "code",
   "execution_count": 35,
   "id": "278aa387",
   "metadata": {},
   "outputs": [],
   "source": [
    "# separate the price column from the rest of the data\n",
    "X = df.drop('Price', axis=1)\n",
    "y = df['Price']"
   ]
  },
  {
   "cell_type": "code",
   "execution_count": 36,
   "id": "07f5c664",
   "metadata": {},
   "outputs": [
    {
     "data": {
      "text/html": [
       "<div>\n",
       "<style scoped>\n",
       "    .dataframe tbody tr th:only-of-type {\n",
       "        vertical-align: middle;\n",
       "    }\n",
       "\n",
       "    .dataframe tbody tr th {\n",
       "        vertical-align: top;\n",
       "    }\n",
       "\n",
       "    .dataframe thead th {\n",
       "        text-align: right;\n",
       "    }\n",
       "</style>\n",
       "<table border=\"1\" class=\"dataframe\">\n",
       "  <thead>\n",
       "    <tr style=\"text-align: right;\">\n",
       "      <th></th>\n",
       "      <th>Airline</th>\n",
       "      <th>Date_of_Journey</th>\n",
       "      <th>Source</th>\n",
       "      <th>Destination</th>\n",
       "      <th>Route</th>\n",
       "      <th>Dep_Time</th>\n",
       "      <th>Arrival_Time</th>\n",
       "      <th>Duration</th>\n",
       "      <th>Total_Stops</th>\n",
       "      <th>Additional_Info</th>\n",
       "    </tr>\n",
       "  </thead>\n",
       "  <tbody>\n",
       "    <tr>\n",
       "      <th>0</th>\n",
       "      <td>3</td>\n",
       "      <td>24</td>\n",
       "      <td>0</td>\n",
       "      <td>5</td>\n",
       "      <td>18</td>\n",
       "      <td>211</td>\n",
       "      <td>233</td>\n",
       "      <td>240</td>\n",
       "      <td>4</td>\n",
       "      <td>8</td>\n",
       "    </tr>\n",
       "    <tr>\n",
       "      <th>1</th>\n",
       "      <td>1</td>\n",
       "      <td>6</td>\n",
       "      <td>3</td>\n",
       "      <td>0</td>\n",
       "      <td>84</td>\n",
       "      <td>31</td>\n",
       "      <td>906</td>\n",
       "      <td>336</td>\n",
       "      <td>1</td>\n",
       "      <td>8</td>\n",
       "    </tr>\n",
       "    <tr>\n",
       "      <th>2</th>\n",
       "      <td>4</td>\n",
       "      <td>43</td>\n",
       "      <td>2</td>\n",
       "      <td>1</td>\n",
       "      <td>118</td>\n",
       "      <td>70</td>\n",
       "      <td>413</td>\n",
       "      <td>106</td>\n",
       "      <td>1</td>\n",
       "      <td>8</td>\n",
       "    </tr>\n",
       "    <tr>\n",
       "      <th>3</th>\n",
       "      <td>3</td>\n",
       "      <td>10</td>\n",
       "      <td>3</td>\n",
       "      <td>0</td>\n",
       "      <td>91</td>\n",
       "      <td>164</td>\n",
       "      <td>1324</td>\n",
       "      <td>311</td>\n",
       "      <td>0</td>\n",
       "      <td>8</td>\n",
       "    </tr>\n",
       "    <tr>\n",
       "      <th>4</th>\n",
       "      <td>3</td>\n",
       "      <td>0</td>\n",
       "      <td>0</td>\n",
       "      <td>5</td>\n",
       "      <td>29</td>\n",
       "      <td>149</td>\n",
       "      <td>1237</td>\n",
       "      <td>303</td>\n",
       "      <td>0</td>\n",
       "      <td>8</td>\n",
       "    </tr>\n",
       "    <tr>\n",
       "      <th>...</th>\n",
       "      <td>...</td>\n",
       "      <td>...</td>\n",
       "      <td>...</td>\n",
       "      <td>...</td>\n",
       "      <td>...</td>\n",
       "      <td>...</td>\n",
       "      <td>...</td>\n",
       "      <td>...</td>\n",
       "      <td>...</td>\n",
       "      <td>...</td>\n",
       "    </tr>\n",
       "    <tr>\n",
       "      <th>10678</th>\n",
       "      <td>0</td>\n",
       "      <td>41</td>\n",
       "      <td>3</td>\n",
       "      <td>0</td>\n",
       "      <td>64</td>\n",
       "      <td>183</td>\n",
       "      <td>1259</td>\n",
       "      <td>236</td>\n",
       "      <td>4</td>\n",
       "      <td>8</td>\n",
       "    </tr>\n",
       "    <tr>\n",
       "      <th>10679</th>\n",
       "      <td>1</td>\n",
       "      <td>29</td>\n",
       "      <td>3</td>\n",
       "      <td>0</td>\n",
       "      <td>64</td>\n",
       "      <td>193</td>\n",
       "      <td>1305</td>\n",
       "      <td>237</td>\n",
       "      <td>4</td>\n",
       "      <td>8</td>\n",
       "    </tr>\n",
       "    <tr>\n",
       "      <th>10680</th>\n",
       "      <td>4</td>\n",
       "      <td>29</td>\n",
       "      <td>0</td>\n",
       "      <td>2</td>\n",
       "      <td>18</td>\n",
       "      <td>58</td>\n",
       "      <td>824</td>\n",
       "      <td>280</td>\n",
       "      <td>4</td>\n",
       "      <td>8</td>\n",
       "    </tr>\n",
       "    <tr>\n",
       "      <th>10681</th>\n",
       "      <td>10</td>\n",
       "      <td>0</td>\n",
       "      <td>0</td>\n",
       "      <td>5</td>\n",
       "      <td>18</td>\n",
       "      <td>92</td>\n",
       "      <td>938</td>\n",
       "      <td>238</td>\n",
       "      <td>4</td>\n",
       "      <td>8</td>\n",
       "    </tr>\n",
       "    <tr>\n",
       "      <th>10682</th>\n",
       "      <td>1</td>\n",
       "      <td>42</td>\n",
       "      <td>2</td>\n",
       "      <td>1</td>\n",
       "      <td>108</td>\n",
       "      <td>85</td>\n",
       "      <td>1124</td>\n",
       "      <td>347</td>\n",
       "      <td>1</td>\n",
       "      <td>8</td>\n",
       "    </tr>\n",
       "  </tbody>\n",
       "</table>\n",
       "<p>10683 rows × 10 columns</p>\n",
       "</div>"
      ],
      "text/plain": [
       "       Airline  Date_of_Journey  Source  Destination  Route  Dep_Time  \\\n",
       "0            3               24       0            5     18       211   \n",
       "1            1                6       3            0     84        31   \n",
       "2            4               43       2            1    118        70   \n",
       "3            3               10       3            0     91       164   \n",
       "4            3                0       0            5     29       149   \n",
       "...        ...              ...     ...          ...    ...       ...   \n",
       "10678        0               41       3            0     64       183   \n",
       "10679        1               29       3            0     64       193   \n",
       "10680        4               29       0            2     18        58   \n",
       "10681       10                0       0            5     18        92   \n",
       "10682        1               42       2            1    108        85   \n",
       "\n",
       "       Arrival_Time  Duration  Total_Stops  Additional_Info  \n",
       "0               233       240            4                8  \n",
       "1               906       336            1                8  \n",
       "2               413       106            1                8  \n",
       "3              1324       311            0                8  \n",
       "4              1237       303            0                8  \n",
       "...             ...       ...          ...              ...  \n",
       "10678          1259       236            4                8  \n",
       "10679          1305       237            4                8  \n",
       "10680           824       280            4                8  \n",
       "10681           938       238            4                8  \n",
       "10682          1124       347            1                8  \n",
       "\n",
       "[10683 rows x 10 columns]"
      ]
     },
     "execution_count": 36,
     "metadata": {},
     "output_type": "execute_result"
    }
   ],
   "source": [
    "X"
   ]
  },
  {
   "cell_type": "code",
   "execution_count": 32,
   "id": "0ea1a18d",
   "metadata": {},
   "outputs": [
    {
     "data": {
      "text/plain": [
       "0         3897\n",
       "1         7662\n",
       "2        13882\n",
       "3         6218\n",
       "4        13302\n",
       "         ...  \n",
       "10678     4107\n",
       "10679     4145\n",
       "10680     7229\n",
       "10681    12648\n",
       "10682    11753\n",
       "Name: Price, Length: 10683, dtype: int64"
      ]
     },
     "execution_count": 32,
     "metadata": {},
     "output_type": "execute_result"
    }
   ],
   "source": [
    "y"
   ]
  },
  {
   "cell_type": "code",
   "execution_count": 44,
   "id": "661578c8",
   "metadata": {},
   "outputs": [],
   "source": [
    "X_train, X_test, y_train, y_test = train_test_split(X, y, test_size=0.2, random_state=42)"
   ]
  },
  {
   "cell_type": "code",
   "execution_count": 45,
   "id": "5792fb3c",
   "metadata": {},
   "outputs": [],
   "source": [
    "rf = RandomForestRegressor(n_estimators=100, random_state=42)"
   ]
  },
  {
   "cell_type": "code",
   "execution_count": 46,
   "id": "ae9e9492",
   "metadata": {},
   "outputs": [
    {
     "data": {
      "text/plain": [
       "RandomForestRegressor(random_state=42)"
      ]
     },
     "execution_count": 46,
     "metadata": {},
     "output_type": "execute_result"
    }
   ],
   "source": [
    "rf.fit(X_train,y_train)"
   ]
  },
  {
   "cell_type": "code",
   "execution_count": 47,
   "id": "96ef0298",
   "metadata": {},
   "outputs": [],
   "source": [
    "y_pred = rf.predict(X_test)"
   ]
  },
  {
   "cell_type": "code",
   "execution_count": 53,
   "id": "c029fa5b",
   "metadata": {},
   "outputs": [
    {
     "name": "stdout",
     "output_type": "stream",
     "text": [
      "Mean squared error: 2415641.287413655\n",
      "RMSE: 1554.2333439395948\n",
      "MAE: 786.2844852578529\n",
      "R2 score: 0.8858606519657815\n"
     ]
    }
   ],
   "source": [
    "mse = mean_squared_error(y_test, y_pred)\n",
    "rmse = np.sqrt(mse)\n",
    "mae = mean_absolute_error(y_test, y_pred)\n",
    "r2 = r2_score(y_test, y_pred)\n",
    "print('Mean squared error:', mse)\n",
    "print(\"RMSE:\", rmse)\n",
    "print(\"MAE:\", mae)\n",
    "print(\"R2 score:\", r2)"
   ]
  },
  {
   "cell_type": "code",
   "execution_count": 56,
   "id": "3d5f6a27",
   "metadata": {},
   "outputs": [
    {
     "name": "stdout",
     "output_type": "stream",
     "text": [
      "Best parameters: {'max_depth': None, 'max_features': 'auto', 'n_estimators': 500}\n",
      "Best score: 0.8520823326624569\n",
      "Test score: 0.8802168754795228\n"
     ]
    }
   ],
   "source": [
    "# Define the hyperparameters and their possible values\n",
    "param_grid = {\n",
    "    'n_estimators': [10, 50, 100, 500],\n",
    "    'max_depth': [2, 4, 8, None],\n",
    "    'max_features': ['auto', 'sqrt']\n",
    "}\n",
    "\n",
    "# Create a Random Forest Classifier object\n",
    "rfr = RandomForestRegressor()\n",
    "\n",
    "# Use Grid Search to find the best hyperparameters\n",
    "grid_search = GridSearchCV(rfr, param_grid=param_grid, cv=5, n_jobs=-1)\n",
    "grid_search.fit(X_train, y_train)\n",
    "\n",
    "\n",
    "# print the best parameters and score\n",
    "print(\"Best parameters:\", grid_search.best_params_)\n",
    "print(\"Best score:\", grid_search.best_score_)\n",
    "\n",
    "# evaluate the best model on the test data\n",
    "best_model = grid_search.best_estimator_\n",
    "test_score = best_model.score(X_test, y_test)\n",
    "print(\"Test score:\", test_score)"
   ]
  },
  {
   "cell_type": "code",
   "execution_count": 77,
   "id": "02c766c3",
   "metadata": {},
   "outputs": [],
   "source": [
    "#Let's stick with these parameters for our training model and import our test dataset now.\n",
    "df2 = pd.read_excel('C:/Users/Soumya Ranjan/Desktop/Workspace/UCI/Winter/211/Flight_Price_Prediction/v.xlsx')\n",
    "string_cols = ['Airline', 'Date_of_Journey', 'Source','Destination','Route','Dep_Time','Arrival_Time','Duration','Total_Stops','Additional_Info']\n",
    "\n",
    "# create a LabelEncoder object for each string column\n",
    "label_encoders = {}\n",
    "for col in string_cols:\n",
    "    le = LabelEncoder()\n",
    "    le.fit(df2[col])\n",
    "    df2[col] = le.transform(df2[col])\n",
    "    label_encoders[col] = le\n",
    "\n",
    "# save the label encoders for future use\n",
    "import pickle\n",
    "with open('label_encoders.pkl', 'wb') as f:\n",
    "    pickle.dump(label_encoders, f)"
   ]
  },
  {
   "cell_type": "code",
   "execution_count": 78,
   "id": "dd7ff620",
   "metadata": {},
   "outputs": [],
   "source": [
    "X_pred=df2"
   ]
  },
  {
   "cell_type": "code",
   "execution_count": 79,
   "id": "39f65d3e",
   "metadata": {},
   "outputs": [],
   "source": [
    "rf = RandomForestRegressor(n_estimators=500, random_state=42)"
   ]
  },
  {
   "cell_type": "code",
   "execution_count": 80,
   "id": "588d7f1c",
   "metadata": {},
   "outputs": [
    {
     "data": {
      "text/plain": [
       "RandomForestRegressor(n_estimators=500, random_state=42)"
      ]
     },
     "execution_count": 80,
     "metadata": {},
     "output_type": "execute_result"
    }
   ],
   "source": [
    "rf.fit(X,y)"
   ]
  },
  {
   "cell_type": "code",
   "execution_count": 81,
   "id": "23bc7316",
   "metadata": {},
   "outputs": [],
   "source": [
    "y_pred=rf.predict(X_pred)"
   ]
  },
  {
   "cell_type": "code",
   "execution_count": 82,
   "id": "c6e3b1b2",
   "metadata": {},
   "outputs": [
    {
     "data": {
      "text/plain": [
       "array([ 8171.326     ,  5876.124     ,  9030.5641    , ...,\n",
       "        8451.422     , 11514.714     ,  9524.09916667])"
      ]
     },
     "execution_count": 82,
     "metadata": {},
     "output_type": "execute_result"
    }
   ],
   "source": [
    "y_pred"
   ]
  }
 ],
 "metadata": {
  "kernelspec": {
   "display_name": "Python 3 (ipykernel)",
   "language": "python",
   "name": "python3"
  },
  "language_info": {
   "codemirror_mode": {
    "name": "ipython",
    "version": 3
   },
   "file_extension": ".py",
   "mimetype": "text/x-python",
   "name": "python",
   "nbconvert_exporter": "python",
   "pygments_lexer": "ipython3",
   "version": "3.9.13"
  }
 },
 "nbformat": 4,
 "nbformat_minor": 5
}
